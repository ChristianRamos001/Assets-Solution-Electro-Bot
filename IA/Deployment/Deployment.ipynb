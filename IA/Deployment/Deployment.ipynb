{
  "cells": [
    {
      "cell_type": "markdown",
      "source": [
        "# Create ENV"
      ],
      "metadata": {
        "nteract": {
          "transient": {
            "deleting": false
          }
        }
      }
    },
    {
      "cell_type": "code",
      "source": [
        "from azureml.core.runconfig import CondaDependencies\r\n",
        "\r\n",
        "cd = CondaDependencies.create()\r\n",
        "cd.add_conda_package(\"numpy\")\r\n",
        "cd.add_conda_package('python=3.8')\r\n",
        "cd.add_conda_package('tensorflow')\r\n",
        "cd.add_conda_package('pip')\r\n",
        "\r\n",
        "cd.add_pip_package(\"PyWavelets\")\r\n",
        "cd.add_pip_package(\"matplotlib\")\r\n",
        "cd.add_pip_package(\"azureml-defaults\")\r\n",
        "\r\n",
        "\r\n",
        "cd.save_to_file(base_directory='./', conda_file_path='myenv.yml')\r\n"
      ],
      "outputs": [
        {
          "output_type": "execute_result",
          "execution_count": 9,
          "data": {
            "text/plain": "'myenv.yml'"
          },
          "metadata": {}
        }
      ],
      "execution_count": 9,
      "metadata": {
        "jupyter": {
          "source_hidden": false,
          "outputs_hidden": false
        },
        "nteract": {
          "transient": {
            "deleting": false
          }
        },
        "gather": {
          "logged": 1651333722952
        }
      }
    },
    {
      "cell_type": "markdown",
      "source": [
        "# Deploy ACI"
      ],
      "metadata": {
        "nteract": {
          "transient": {
            "deleting": false
          }
        }
      }
    },
    {
      "cell_type": "code",
      "source": [
        "import urllib.request\r\n",
        "from azureml.core.model import Model\r\n",
        "from azureml.core import Workspace\r\n",
        "\r\n",
        "ws = Workspace(subscription_id=\"d1dd79d8-6a20-4de8-bc99-29e507321f02\",\r\n",
        "               resource_group=\"GR-CRRS-DATA\",\r\n",
        "               workspace_name=\"ml-data-studio\")"
      ],
      "outputs": [],
      "execution_count": 2,
      "metadata": {
        "jupyter": {
          "source_hidden": false,
          "outputs_hidden": false
        },
        "nteract": {
          "transient": {
            "deleting": false
          }
        },
        "gather": {
          "logged": 1651355825451
        }
      }
    },
    {
      "cell_type": "code",
      "source": [
        "from azureml.core.model import Model\r\n",
        "\r\n",
        "model = Model(ws,'heartCNN_VGG16_DV5')"
      ],
      "outputs": [],
      "execution_count": 11,
      "metadata": {
        "jupyter": {
          "source_hidden": false,
          "outputs_hidden": false
        },
        "nteract": {
          "transient": {
            "deleting": false
          }
        },
        "gather": {
          "logged": 1651333726388
        }
      }
    },
    {
      "cell_type": "code",
      "source": [
        "model"
      ],
      "outputs": [
        {
          "output_type": "execute_result",
          "execution_count": 12,
          "data": {
            "text/plain": "Model(workspace=Workspace.create(name='ml-data-studio', subscription_id='d1dd79d8-6a20-4de8-bc99-29e507321f02', resource_group='GR-CRRS-DATA'), name=heartCNN_VGG16_DV5, id=heartCNN_VGG16_DV5:1, version=1, tags={}, properties={})"
          },
          "metadata": {}
        }
      ],
      "execution_count": 12,
      "metadata": {
        "jupyter": {
          "source_hidden": false,
          "outputs_hidden": false
        },
        "nteract": {
          "transient": {
            "deleting": false
          }
        },
        "gather": {
          "logged": 1651333728000
        }
      }
    },
    {
      "cell_type": "code",
      "source": [
        "from azureml.core.webservice import AciWebservice\r\n",
        "from azureml.core.model import InferenceConfig\r\n",
        "from azureml.core.model import Model\r\n",
        "from azureml.core import Environment\r\n",
        "\r\n",
        "\r\n",
        "myenv = Environment.from_conda_specification(name=\"myenv\", file_path=\"myenv.yml\")\r\n",
        "inference_config = InferenceConfig(entry_script=\"echo_score.py\", environment=myenv)\r\n",
        "\r\n",
        "aciconfig = AciWebservice.deploy_configuration(cpu_cores=3, \r\n",
        "                                               memory_gb=6, \r\n",
        "                                               tags={'Red':'VGG16', 'framework': 'TensorFlow'},\r\n",
        "                                               description='Tensorflow Medical Image Classification CNN and CWT')\r\n",
        "\r\n",
        "service = Model.deploy(workspace=ws, \r\n",
        "                           name='ia-classification-medical-vision', \r\n",
        "                           models=[model], \r\n",
        "                           inference_config= inference_config, \r\n",
        "                           deployment_config= aciconfig,\r\n",
        "                           overwrite=True)\r\n",
        "\r\n",
        "service.wait_for_deployment(True)\r\n"
      ],
      "outputs": [
        {
          "output_type": "stream",
          "name": "stdout",
          "text": "Tips: You can try get_logs(): https://aka.ms/debugimage#dockerlog or local deployment: https://aka.ms/debugimage#debug-locally to debug if deployment takes longer than 10 minutes.\nRunning\n2022-04-30 15:48:51+00:00 Creating Container Registry if not exists.\n2022-04-30 15:48:51+00:00 Registering the environment.\n2022-04-30 15:48:52+00:00 Building image..\n2022-04-30 15:56:21+00:00 Generating deployment configuration.\n2022-04-30 15:56:23+00:00 Submitting deployment to compute.\n2022-04-30 15:56:25+00:00 Checking the status of deployment ia-classification-medical-vision..\n2022-04-30 16:01:27+00:00 Checking the status of inference endpoint ia-classification-medical-vision.\nSucceeded\nACI service creation operation finished, operation \"Succeeded\"\n"
        }
      ],
      "execution_count": 13,
      "metadata": {
        "jupyter": {
          "source_hidden": false,
          "outputs_hidden": false
        },
        "nteract": {
          "transient": {
            "deleting": false
          }
        },
        "gather": {
          "logged": 1651334489985
        }
      }
    },
    {
      "cell_type": "code",
      "source": [
        "print(service.get_logs())"
      ],
      "outputs": [
        {
          "output_type": "stream",
          "name": "stdout",
          "text": "2022-04-30T16:00:27,700665500+00:00 - gunicorn/run \n2022-04-30T16:00:27,700951400+00:00 - iot-server/run \nDynamic Python package installation is disabled.\nStarting HTTP server\n2022-04-30T16:00:27,704293000+00:00 - rsyslog/run \n2022-04-30T16:00:27,720978300+00:00 - nginx/run \nEdgeHubConnectionString and IOTEDGE_IOTHUBHOSTNAME are not set. Exiting...\n2022-04-30T16:00:27,932539800+00:00 - iot-server/finish 1 0\n2022-04-30T16:00:27,934876200+00:00 - Exit code 1 is normal. Not restarting iot-server.\nStarting gunicorn 20.1.0\nListening at: http://127.0.0.1:31311 (86)\nUsing worker: sync\nworker timeout is set to 300\nBooting worker with pid: 113\nSPARK_HOME not set. Skipping PySpark Initialization.\ngenerated new fontManager\nInitializing logger\n2022-04-30 16:00:32,655 | root | INFO | Starting up app insights client\nlogging socket was found. logging is available.\nlogging socket was found. logging is available.\n2022-04-30 16:00:32,656 | root | INFO | Starting up request id generator\n2022-04-30 16:00:32,657 | root | INFO | Starting up app insight hooks\n2022-04-30 16:00:32,657 | root | INFO | Invoking user's init function\n2022-04-30 16:00:32.705390: I tensorflow/core/platform/cpu_feature_guard.cc:142] This TensorFlow binary is optimized with oneAPI Deep Neural Network Library (oneDNN) to use the following CPU instructions in performance-critical operations:  SSE4.1 SSE4.2 AVX AVX2 FMA\nTo enable them in other operations, rebuild TensorFlow with the appropriate compiler flags.\n2022-04-30 16:00:32.710229: I tensorflow/core/common_runtime/process_util.cc:146] Creating new thread pool with default inter op setting: 2. Tune using inter_op_parallelism_threads for best performance.\n2022-04-30 16:00:33,707 | root | INFO | Users's init has completed successfully\n2022-04-30 16:00:33,712 | root | INFO | Skipping middleware: dbg_model_info as it's not enabled.\n2022-04-30 16:00:33,712 | root | INFO | Skipping middleware: dbg_resource_usage as it's not enabled.\n2022-04-30 16:00:33,716 | root | INFO | Scoring timeout is found from os.environ: 60000 ms\n2022-04-30 16:01:27,378 | root | INFO | Swagger file not present\n2022-04-30 16:01:27,379 | root | INFO | 404\n127.0.0.1 - - [30/Apr/2022:16:01:27 +0000] \"GET /swagger.json HTTP/1.0\" 404 19 \"-\" \"Go-http-client/1.1\"\n2022-04-30 16:01:29,674 | root | INFO | Swagger file not present\n2022-04-30 16:01:29,674 | root | INFO | 404\n127.0.0.1 - - [30/Apr/2022:16:01:29 +0000] \"GET /swagger.json HTTP/1.0\" 404 19 \"-\" \"Go-http-client/1.1\"\n2022-04-30 16:03:09,954 | root | INFO | Swagger file not present\n2022-04-30 16:03:09,954 | root | INFO | 404\n127.0.0.1 - - [30/Apr/2022:16:03:09 +0000] \"GET /swagger.json HTTP/1.0\" 404 19 \"-\" \"Go-http-client/1.1\"\n2022-04-30 16:03:24,016 | root | INFO | Scoring Timer is set to 60.0 seconds\n2022-04-30 16:03:24,020 | root | ERROR | Encountered Exception: Traceback (most recent call last):\n  File \"/var/azureml-server/synchronous/routes.py\", line 65, in run_scoring\n    response, time_taken_ms = invoke_user_with_timer(service_input, request_headers)\n  File \"/var/azureml-server/synchronous/routes.py\", line 110, in invoke_user_with_timer\n    result, time_taken_ms = capture_time_taken(user_main.run)(**params)\n  File \"/var/azureml-server/synchronous/routes.py\", line 92, in timer\n    result = func(*args, **kwargs)\n  File \"/var/azureml-app/echo_score.py\", line 22, in run\n    if(len(dataRequest['listECG']) > 0):\nKeyError: 'listECG'\n\nDuring handling of the above exception, another exception occurred:\n\nTraceback (most recent call last):\n  File \"/azureml-envs/azureml_c78c9543ed45f411add3daef4c5dde2a/lib/python3.8/site-packages/flask/app.py\", line 1832, in full_dispatch_request\n    rv = self.dispatch_request()\n  File \"/azureml-envs/azureml_c78c9543ed45f411add3daef4c5dde2a/lib/python3.8/site-packages/flask/app.py\", line 1818, in dispatch_request\n    return self.view_functions[rule.endpoint](**req.view_args)\n  File \"/var/azureml-server/synchronous/routes.py\", line 44, in score_realtime\n    return run_scoring(service_input, request.headers, request.environ.get('REQUEST_ID', '00000000-0000-0000-0000-000000000000'))\n  File \"/var/azureml-server/synchronous/routes.py\", line 74, in run_scoring\n    raise RunFunctionException(str(exc))\nrun_function_exception.RunFunctionException\n\n2022-04-30 16:03:24,020 | root | INFO | 500\n127.0.0.1 - - [30/Apr/2022:16:03:24 +0000] \"POST /score HTTP/1.0\" 500 9 \"-\" \"PostmanRuntime/7.26.8\"\n2022-04-30 16:04:13,022 | root | INFO | Scoring Timer is set to 60.0 seconds\n2022-04-30 16:04:13,023 | root | ERROR | Encountered Exception: Traceback (most recent call last):\n  File \"/var/azureml-server/synchronous/routes.py\", line 65, in run_scoring\n    response, time_taken_ms = invoke_user_with_timer(service_input, request_headers)\n  File \"/var/azureml-server/synchronous/routes.py\", line 110, in invoke_user_with_timer\n    result, time_taken_ms = capture_time_taken(user_main.run)(**params)\n  File \"/var/azureml-server/synchronous/routes.py\", line 92, in timer\n    result = func(*args, **kwargs)\n  File \"/var/azureml-app/echo_score.py\", line 22, in run\n    if(len(dataRequest['listECG']) > 0):\nKeyError: 'listECG'\n\nDuring handling of the above exception, another exception occurred:\n\nTraceback (most recent call last):\n  File \"/azureml-envs/azureml_c78c9543ed45f411add3daef4c5dde2a/lib/python3.8/site-packages/flask/app.py\", line 1832, in full_dispatch_request\n    rv = self.dispatch_request()\n  File \"/azureml-envs/azureml_c78c9543ed45f411add3daef4c5dde2a/lib/python3.8/site-packages/flask/app.py\", line 1818, in dispatch_request\n    return self.view_functions[rule.endpoint](**req.view_args)\n  File \"/var/azureml-server/synchronous/routes.py\", line 44, in score_realtime\n    return run_scoring(service_input, request.headers, request.environ.get('REQUEST_ID', '00000000-0000-0000-0000-000000000000'))\n  File \"/var/azureml-server/synchronous/routes.py\", line 74, in run_scoring\n    raise RunFunctionException(str(exc))\nrun_function_exception.RunFunctionException\n\n2022-04-30 16:04:13,023 | root | INFO | 500\n127.0.0.1 - - [30/Apr/2022:16:04:13 +0000] \"POST /score HTTP/1.0\" 500 9 \"-\" \"PostmanRuntime/7.26.8\"\n2022-04-30 16:04:35,585 | root | INFO | Scoring Timer is set to 60.0 seconds\n2022-04-30 16:04:35,590 | root | ERROR | Encountered Exception: Traceback (most recent call last):\n  File \"/var/azureml-server/synchronous/routes.py\", line 65, in run_scoring\n    response, time_taken_ms = invoke_user_with_timer(service_input, request_headers)\n  File \"/var/azureml-server/synchronous/routes.py\", line 110, in invoke_user_with_timer\n    result, time_taken_ms = capture_time_taken(user_main.run)(**params)\n  File \"/var/azureml-server/synchronous/routes.py\", line 92, in timer\n    result = func(*args, **kwargs)\n  File \"/var/azureml-app/echo_score.py\", line 22, in run\n    if(len(dataRequest['listECG']) > 0):\nKeyError: 'listECG'\n\nDuring handling of the above exception, another exception occurred:\n\nTraceback (most recent call last):\n  File \"/azureml-envs/azureml_c78c9543ed45f411add3daef4c5dde2a/lib/python3.8/site-packages/flask/app.py\", line 1832, in full_dispatch_request\n    rv = self.dispatch_request()\n  File \"/azureml-envs/azureml_c78c9543ed45f411add3daef4c5dde2a/lib/python3.8/site-packages/flask/app.py\", line 1818, in dispatch_request\n    return self.view_functions[rule.endpoint](**req.view_args)\n  File \"/var/azureml-server/synchronous/routes.py\", line 44, in score_realtime\n    return run_scoring(service_input, request.headers, request.environ.get('REQUEST_ID', '00000000-0000-0000-0000-000000000000'))\n  File \"/var/azureml-server/synchronous/routes.py\", line 74, in run_scoring\n    raise RunFunctionException(str(exc))\nrun_function_exception.RunFunctionException\n\n2022-04-30 16:04:35,591 | root | INFO | 500\n127.0.0.1 - - [30/Apr/2022:16:04:35 +0000] \"POST /score HTTP/1.0\" 500 9 \"-\" \"PostmanRuntime/7.26.8\"\n2022-04-30 16:04:37,670 | root | INFO | Scoring Timer is set to 60.0 seconds\n2022-04-30 16:04:37,671 | root | ERROR | Encountered Exception: Traceback (most recent call last):\n  File \"/var/azureml-server/synchronous/routes.py\", line 65, in run_scoring\n    response, time_taken_ms = invoke_user_with_timer(service_input, request_headers)\n  File \"/var/azureml-server/synchronous/routes.py\", line 110, in invoke_user_with_timer\n    result, time_taken_ms = capture_time_taken(user_main.run)(**params)\n  File \"/var/azureml-server/synchronous/routes.py\", line 92, in timer\n    result = func(*args, **kwargs)\n  File \"/var/azureml-app/echo_score.py\", line 22, in run\n    if(len(dataRequest['listECG']) > 0):\nKeyError: 'listECG'\n\nDuring handling of the above exception, another exception occurred:\n\nTraceback (most recent call last):\n  File \"/azureml-envs/azureml_c78c9543ed45f411add3daef4c5dde2a/lib/python3.8/site-packages/flask/app.py\", line 1832, in full_dispatch_request\n    rv = self.dispatch_request()\n  File \"/azureml-envs/azureml_c78c9543ed45f411add3daef4c5dde2a/lib/python3.8/site-packages/flask/app.py\", line 1818, in dispatch_request\n    return self.view_functions[rule.endpoint](**req.view_args)\n  File \"/var/azureml-server/synchronous/routes.py\", line 44, in score_realtime\n    return run_scoring(service_input, request.headers, request.environ.get('REQUEST_ID', '00000000-0000-0000-0000-000000000000'))\n  File \"/var/azureml-server/synchronous/routes.py\", line 74, in run_scoring\n    raise RunFunctionException(str(exc))\nrun_function_exception.RunFunctionException\n\n2022-04-30 16:04:37,673 | root | INFO | 500\n127.0.0.1 - - [30/Apr/2022:16:04:37 +0000] \"POST /score HTTP/1.0\" 500 9 \"-\" \"PostmanRuntime/7.26.8\"\nException in worker process\nTraceback (most recent call last):\n  File \"/azureml-envs/azureml_c78c9543ed45f411add3daef4c5dde2a/lib/python3.8/site-packages/gunicorn/arbiter.py\", line 589, in spawn_worker\n    worker.init_process()\n  File \"/azureml-envs/azureml_c78c9543ed45f411add3daef4c5dde2a/lib/python3.8/site-packages/gunicorn/workers/base.py\", line 142, in init_process\n    self.run()\n  File \"/azureml-envs/azureml_c78c9543ed45f411add3daef4c5dde2a/lib/python3.8/site-packages/gunicorn/workers/sync.py\", line 125, in run\n    self.run_for_one(timeout)\n  File \"/azureml-envs/azureml_c78c9543ed45f411add3daef4c5dde2a/lib/python3.8/site-packages/gunicorn/workers/sync.py\", line 84, in run_for_one\n    self.wait(timeout)\n  File \"/azureml-envs/azureml_c78c9543ed45f411add3daef4c5dde2a/lib/python3.8/site-packages/gunicorn/workers/sync.py\", line 36, in wait\n    ret = select.select(self.wait_fds, [], [], timeout)\n  File \"/var/azureml-server/routes_common.py\", line 153, in alarm_handler\n    raise TimeoutException(error_message)\ntimeout_exception.TimeoutException\nWorker exiting (pid: 113)\nworker timeout is set to 300\nBooting worker with pid: 249\nSPARK_HOME not set. Skipping PySpark Initialization.\nInitializing logger\n2022-04-30 16:05:43,765 | root | INFO | Starting up app insights client\nlogging socket was found. logging is available.\nlogging socket was found. logging is available.\n2022-04-30 16:05:43,766 | root | INFO | Starting up request id generator\n2022-04-30 16:05:43,766 | root | INFO | Starting up app insight hooks\n2022-04-30 16:05:43,767 | root | INFO | Invoking user's init function\n2022-04-30 16:05:43.808215: I tensorflow/core/platform/cpu_feature_guard.cc:142] This TensorFlow binary is optimized with oneAPI Deep Neural Network Library (oneDNN) to use the following CPU instructions in performance-critical operations:  SSE4.1 SSE4.2 AVX AVX2 FMA\nTo enable them in other operations, rebuild TensorFlow with the appropriate compiler flags.\n2022-04-30 16:05:43.811524: I tensorflow/core/common_runtime/process_util.cc:146] Creating new thread pool with default inter op setting: 2. Tune using inter_op_parallelism_threads for best performance.\n2022-04-30 16:05:44,868 | root | INFO | Users's init has completed successfully\n2022-04-30 16:05:44,870 | root | INFO | Skipping middleware: dbg_model_info as it's not enabled.\n2022-04-30 16:05:44,870 | root | INFO | Skipping middleware: dbg_resource_usage as it's not enabled.\n2022-04-30 16:05:44,871 | root | INFO | Scoring timeout is found from os.environ: 60000 ms\n\n"
        }
      ],
      "execution_count": 15,
      "metadata": {
        "jupyter": {
          "source_hidden": false,
          "outputs_hidden": false
        },
        "nteract": {
          "transient": {
            "deleting": false
          }
        },
        "gather": {
          "logged": 1651334829593
        }
      }
    },
    {
      "cell_type": "code",
      "source": [
        "from azureml.core.webservice import AciWebservice\r\n",
        "from azureml.core.webservice import AciWebservice\r\n",
        "from azureml.core.model import InferenceConfig\r\n",
        "from azureml.core.model import Model\r\n",
        "from azureml.core import Environment\r\n",
        "\r\n"
      ],
      "outputs": [],
      "execution_count": 3,
      "metadata": {
        "jupyter": {
          "source_hidden": false,
          "outputs_hidden": false
        },
        "nteract": {
          "transient": {
            "deleting": false
          }
        },
        "gather": {
          "logged": 1651355830597
        }
      }
    },
    {
      "cell_type": "code",
      "source": [
        "myenv = Environment.from_conda_specification(name=\"myenv\", file_path=\"myenv.yml\")\r\n",
        "inference_config = InferenceConfig(entry_script=\"echo_score.py\", environment=myenv)\r\n",
        "\r\n",
        "service_name = 'ia-classification-medical-vision'\r\n",
        "# Retrieve existing service.\r\n",
        "service = AciWebservice(name=service_name, workspace=ws)"
      ],
      "outputs": [],
      "execution_count": 9,
      "metadata": {
        "jupyter": {
          "source_hidden": false,
          "outputs_hidden": false
        },
        "nteract": {
          "transient": {
            "deleting": false
          }
        },
        "gather": {
          "logged": 1651355912684
        }
      }
    },
    {
      "cell_type": "code",
      "source": [
        "service"
      ],
      "outputs": [
        {
          "output_type": "execute_result",
          "execution_count": 10,
          "data": {
            "text/plain": "AciWebservice(workspace=Workspace.create(name='ml-data-studio', subscription_id='d1dd79d8-6a20-4de8-bc99-29e507321f02', resource_group='GR-CRRS-DATA'), name=ia-classification-medical-vision, image_id=None, image_digest=None, compute_type=ACI, state=Healthy, scoring_uri=http://8d516c58-5deb-420a-b634-adbe3d3fa449.southcentralus.azurecontainer.io/score, tags={'Red': 'VGG16', 'framework': 'TensorFlow'}, properties={'hasInferenceSchema': 'False', 'hasHttps': 'False'}, created_by={'userObjectId': '3aa7f6df-9a9e-4d46-80fb-3b28b6d99e42', 'userPuId': '100300009B544CC4', 'userIdp': None, 'userAltSecId': None, 'userIss': 'https://sts.windows.net/0e0cb060-09ad-49f5-a005-68b9b49aa1f6/', 'userTenantId': '0e0cb060-09ad-49f5-a005-68b9b49aa1f6', 'userName': 'Christian Ruben Ramos Sanchez', 'upn': 'u201710131@upc.edu.pe'})"
          },
          "metadata": {}
        }
      ],
      "execution_count": 10,
      "metadata": {
        "jupyter": {
          "source_hidden": false,
          "outputs_hidden": false
        },
        "nteract": {
          "transient": {
            "deleting": false
          }
        },
        "gather": {
          "logged": 1651355913309
        }
      }
    },
    {
      "cell_type": "code",
      "source": [
        "service.update(inference_config=inference_config)\r\n",
        "service.wait_for_deployment(show_output=True)\r\n",
        "print(service.state)\r\n"
      ],
      "outputs": [
        {
          "output_type": "stream",
          "name": "stdout",
          "text": "Tips: You can try get_logs(): https://aka.ms/debugimage#dockerlog or local deployment: https://aka.ms/debugimage#debug-locally to debug if deployment takes longer than 10 minutes.\nRunning\n2022-04-30 23:05:35+00:00 Creating Container Registry if not exists.\n2022-04-30 23:05:35+00:00 Registering the environment.\n2022-04-30 23:05:36+00:00 Use the existing image.\n2022-04-30 23:05:36+00:00 Generating deployment configuration.\n2022-04-30 23:05:37+00:00 Submitting deployment to compute.\n2022-04-30 23:05:39+00:00 Checking the status of deployment ia-classification-medical-vision..\n2022-04-30 23:09:52+00:00 Checking the status of inference endpoint ia-classification-medical-vision.\nSucceeded\nACI service creation operation finished, operation \"Succeeded\"\nHealthy\n"
        }
      ],
      "execution_count": 18,
      "metadata": {
        "jupyter": {
          "source_hidden": false,
          "outputs_hidden": false
        },
        "nteract": {
          "transient": {
            "deleting": false
          }
        },
        "gather": {
          "logged": 1651360193501
        }
      }
    },
    {
      "cell_type": "code",
      "source": [
        "print(service.get_logs())"
      ],
      "outputs": [
        {
          "output_type": "stream",
          "name": "stdout",
          "text": "2022-04-30T22:03:39,077225500+00:00 - gunicorn/run \n2022-04-30T22:03:39,077788600+00:00 - iot-server/run \n2022-04-30T22:03:39,079957900+00:00 - rsyslog/run \nDynamic Python package installation is disabled.\nStarting HTTP server\n2022-04-30T22:03:39,088256400+00:00 - nginx/run \nEdgeHubConnectionString and IOTEDGE_IOTHUBHOSTNAME are not set. Exiting...\n2022-04-30T22:03:39,287908200+00:00 - iot-server/finish 1 0\n2022-04-30T22:03:39,290541000+00:00 - Exit code 1 is normal. Not restarting iot-server.\nStarting gunicorn 20.1.0\nListening at: http://127.0.0.1:31311 (85)\nUsing worker: sync\nworker timeout is set to 300\nBooting worker with pid: 114\nSPARK_HOME not set. Skipping PySpark Initialization.\ngenerated new fontManager\nInitializing logger\n2022-04-30 22:03:43,850 | root | INFO | Starting up app insights client\nlogging socket was found. logging is available.\nlogging socket was found. logging is available.\n2022-04-30 22:03:43,851 | root | INFO | Starting up request id generator\n2022-04-30 22:03:43,851 | root | INFO | Starting up app insight hooks\n2022-04-30 22:03:43,851 | root | INFO | Invoking user's init function\n2022-04-30 22:03:43.903963: I tensorflow/core/platform/cpu_feature_guard.cc:142] This TensorFlow binary is optimized with oneAPI Deep Neural Network Library (oneDNN) to use the following CPU instructions in performance-critical operations:  SSE4.1 SSE4.2 AVX AVX2 FMA\nTo enable them in other operations, rebuild TensorFlow with the appropriate compiler flags.\n2022-04-30 22:03:43.907274: I tensorflow/core/common_runtime/process_util.cc:146] Creating new thread pool with default inter op setting: 2. Tune using inter_op_parallelism_threads for best performance.\n2022-04-30 22:03:45,341 | root | INFO | Users's init has completed successfully\n2022-04-30 22:03:45,345 | root | INFO | Skipping middleware: dbg_model_info as it's not enabled.\n2022-04-30 22:03:45,346 | root | INFO | Skipping middleware: dbg_resource_usage as it's not enabled.\n2022-04-30 22:03:45,351 | root | INFO | Scoring timeout is found from os.environ: 60000 ms\n2022-04-30 22:04:16,096 | root | INFO | Swagger file not present\n2022-04-30 22:04:16,096 | root | INFO | 404\n127.0.0.1 - - [30/Apr/2022:22:04:16 +0000] \"GET /swagger.json HTTP/1.0\" 404 19 \"-\" \"Go-http-client/1.1\"\n2022-04-30 22:04:21,204 | root | INFO | Swagger file not present\n2022-04-30 22:04:21,204 | root | INFO | 404\n127.0.0.1 - - [30/Apr/2022:22:04:21 +0000] \"GET /swagger.json HTTP/1.0\" 404 19 \"-\" \"Go-http-client/1.1\"\n2022-04-30 22:05:14,358 | root | INFO | Scoring Timer is set to 60.0 seconds\n<class 'list'>\n747b4c87-e6bb-4257-82c0-fe86fc203106,<class 'list'>\n\n5\n747b4c87-e6bb-4257-82c0-fe86fc203106,5\n\npaso condicion\n747b4c87-e6bb-4257-82c0-fe86fc203106,paso condicion\n\n[[0.144, 0.089, 0.023, -0.021, -0.052, -0.082, -0.089, -0.094, -0.113, -0.111, -0.097, -0.078, -0.054, -0.063, -0.087, -0.068, -0.044, -0.047, -0.044, -0.037, -0.033, -0.028, -0.021, -0.021, -0.021, -0.016, -0.009, -0.004, -0.004, -0.002, 0.0, -0.007, -0.018, -0.016, -0.009, -0.007, -0.004, -0.007, -0.014, -0.009, 0.0, -0.014, -0.023, -0.014, -0.011, -0.021, -0.018, -0.014, -0.011, -0.016, -0.014, 0.0, 0.014, 0.009, -0.007, -0.014, -0.014, -0.023, -0.03, -0.04, -0.047, -0.04, -0.033, -0.042, -0.049, -0.047, -0.106, -0.206, -0.035, 0.575, 0.845, 0.021, -0.779, -0.49, -0.073, -0.158, -0.156, -0.007, -0.014, -0.054, -0.011, 0.009, -0.007, -0.021, -0.03, -0.023, -0.011, -0.007, 0.002, 0.014, 0.021, 0.033, 0.047, 0.059, 0.075, 0.097, 0.12, 0.139, 0.156, 0.175, 0.189, 0.187, 0.182, 0.177, 0.161, 0.134, 0.101, 0.052, 0.002, -0.033, -0.066, -0.087, -0.104, -0.12, -0.125, -0.113, -0.111, -0.116, -0.106, -0.092, -0.087, -0.08, -0.073, -0.068, -0.068, -0.066, -0.061, -0.054, -0.044, -0.037, -0.033, -0.026, -0.023, -0.03, -0.026, -0.016, -0.016, -0.018, -0.016, -0.011, -0.011, -0.014, -0.009, -0.002, 0.002, 0.004, 0.004, 0.004, 0.009, 0.009, -0.002, -0.002, 0.021, 0.026, -0.002, -0.018, -0.018, -0.021, -0.018, -0.023, -0.044, -0.061, -0.059, -0.063, -0.073, -0.073, -0.073, -0.113, -0.198, -0.113, 0.395, 0.802, 0.172, -0.788, -0.689, -0.153, -0.137, -0.182, -0.023, 0.026, -0.011, 0.009, 0.035, 0.03, 0.037, 0.054, 0.059, 0.056, 0.059, 0.066, 0.073, 0.085, 0.099, 0.118, 0.127, 0.132, 0.151, 0.177, 0.196, 0.217, 0.239, 0.251, 0.258, 0.262, 0.258, 0.239, 0.208, 0.165, 0.108, 0.052, 0.009, -0.023, -0.054, -0.078, -0.082, -0.085, -0.089, -0.089, -0.089, -0.089, -0.082, -0.075, -0.073, -0.066, -0.061, -0.059, -0.049, -0.042, -0.044, -0.047, -0.042, -0.04, -0.035, -0.026, -0.021, -0.04, -0.073, -0.073, -0.052, -0.049, -0.052, -0.047, -0.047, -0.049, -0.044, -0.042, -0.04, -0.04, -0.04, -0.042, -0.044, -0.044, -0.03, -0.002, 0.021], [0.144, 0.089, 0.023, -0.021, -0.052, -0.082, -0.089, -0.094, -0.113, -0.111, -0.097, -0.078, -0.054, -0.063, -0.087, -0.068, -0.044, -0.047, -0.044, -0.037, -0.033, -0.028, -0.021, -0.021, -0.021, -0.016, -0.009, -0.004, -0.004, -0.002, 0.0, -0.007, -0.018, -0.016, -0.009, -0.007, -0.004, -0.007, -0.014, -0.009, 0.0, -0.014, -0.023, -0.014, -0.011, -0.021, -0.018, -0.014, -0.011, -0.016, -0.014, 0.0, 0.014, 0.009, -0.007, -0.014, -0.014, -0.023, -0.03, -0.04, -0.047, -0.04, -0.033, -0.042, -0.049, -0.047, -0.106, -0.206, -0.035, 0.575, 0.845, 0.021, -0.779, -0.49, -0.073, -0.158, -0.156, -0.007, -0.014, -0.054, -0.011, 0.009, -0.007, -0.021, -0.03, -0.023, -0.011, -0.007, 0.002, 0.014, 0.021, 0.033, 0.047, 0.059, 0.075, 0.097, 0.12, 0.139, 0.156, 0.175, 0.189, 0.187, 0.182, 0.177, 0.161, 0.134, 0.101, 0.052, 0.002, -0.033, -0.066, -0.087, -0.104, -0.12, -0.125, -0.113, -0.111, -0.116, -0.106, -0.092, -0.087, -0.08, -0.073, -0.068, -0.068, -0.066, -0.061, -0.054, -0.044, -0.037, -0.033, -0.026, -0.023, -0.03, -0.026, -0.016, -0.016, -0.018, -0.016, -0.011, -0.011, -0.014, -0.009, -0.002, 0.002, 0.004, 0.004, 0.004, 0.009, 0.009, -0.002, -0.002, 0.021, 0.026, -0.002, -0.018, -0.018, -0.021, -0.018, -0.023, -0.044, -0.061, -0.059, -0.063, -0.073, -0.073, -0.073, -0.113, -0.198, -0.113, 0.395, 0.802, 0.172, -0.788, -0.689, -0.153, -0.137, -0.182, -0.023, 0.026, -0.011, 0.009, 0.035, 0.03, 0.037, 0.054, 0.059, 0.056, 0.059, 0.066, 0.073, 0.085, 0.099, 0.118, 0.127, 0.132, 0.151, 0.177, 0.196, 0.217, 0.239, 0.251, 0.258, 0.262, 0.258, 0.239, 0.208, 0.165, 0.108, 0.052, 0.009, -0.023, -0.054, -0.078, -0.082, -0.085, -0.089, -0.089, -0.089, -0.089, -0.082, -0.075, -0.073, -0.066, -0.061, -0.059, -0.049, -0.042, -0.044, -0.047, -0.042, -0.04, -0.035, -0.026, -0.021, -0.04, -0.073, -0.073, -0.052, -0.049, -0.052, -0.047, -0.047, -0.049, -0.044, -0.042, -0.04, -0.04, -0.04, -0.042, -0.044, -0.044, -0.03, -0.002, 0.021], [0.144, 0.089, 0.023, -0.021, -0.052, -0.082, -0.089, -0.094, -0.113, -0.111, -0.097, -0.078, -0.054, -0.063, -0.087, -0.068, -0.044, -0.047, -0.044, -0.037, -0.033, -0.028, -0.021, -0.021, -0.021, -0.016, -0.009, -0.004, -0.004, -0.002, 0.0, -0.007, -0.018, -0.016, -0.009, -0.007, -0.004, -0.007, -0.014, -0.009, 0.0, -0.014, -0.023, -0.014, -0.011, -0.021, -0.018, -0.014, -0.011, -0.016, -0.014, 0.0, 0.014, 0.009, -0.007, -0.014, -0.014, -0.023, -0.03, -0.04, -0.047, -0.04, -0.033, -0.042, -0.049, -0.047, -0.106, -0.206, -0.035, 0.575, 0.845, 0.021, -0.779, -0.49, -0.073, -0.158, -0.156, -0.007, -0.014, -0.054, -0.011, 0.009, -0.007, -0.021, -0.03, -0.023, -0.011, -0.007, 0.002, 0.014, 0.021, 0.033, 0.047, 0.059, 0.075, 0.097, 0.12, 0.139, 0.156, 0.175, 0.189, 0.187, 0.182, 0.177, 0.161, 0.134, 0.101, 0.052, 0.002, -0.033, -0.066, -0.087, -0.104, -0.12, -0.125, -0.113, -0.111, -0.116, -0.106, -0.092, -0.087, -0.08, -0.073, -0.068, -0.068, -0.066, -0.061, -0.054, -0.044, -0.037, -0.033, -0.026, -0.023, -0.03, -0.026, -0.016, -0.016, -0.018, -0.016, -0.011, -0.011, -0.014, -0.009, -0.002, 0.002, 0.004, 0.004, 0.004, 0.009, 0.009, -0.002, -0.002, 0.021, 0.026, -0.002, -0.018, -0.018, -0.021, -0.018, -0.023, -0.044, -0.061, -0.059, -0.063, -0.073, -0.073, -0.073, -0.113, -0.198, -0.113, 0.395, 0.802, 0.172, -0.788, -0.689, -0.153, -0.137, -0.182, -0.023, 0.026, -0.011, 0.009, 0.035, 0.03, 0.037, 0.054, 0.059, 0.056, 0.059, 0.066, 0.073, 0.085, 0.099, 0.118, 0.127, 0.132, 0.151, 0.177, 0.196, 0.217, 0.239, 0.251, 0.258, 0.262, 0.258, 0.239, 0.208, 0.165, 0.108, 0.052, 0.009, -0.023, -0.054, -0.078, -0.082, -0.085, -0.089, -0.089, -0.089, -0.089, -0.082, -0.075, -0.073, -0.066, -0.061, -0.059, -0.049, -0.042, -0.044, -0.047, -0.042, -0.04, -0.035, -0.026, -0.021, -0.04, -0.073, -0.073, -0.052, -0.049, -0.052, -0.047, -0.047, -0.049, -0.044, -0.042, -0.04, -0.04, -0.04, -0.042, -0.044, -0.044, -0.03, -0.002, 0.021], [0.144, 0.089, 0.023, -0.021, -0.052, -0.082, -0.089, -0.094, -0.113, -0.111, -0.097, -0.078, -0.054, -0.063, -0.087, -0.068, -0.044, -0.047, -0.044, -0.037, -0.033, -0.028, -0.021, -0.021, -0.021, -0.016, -0.009, -0.004, -0.004, -0.002, 0.0, -0.007, -0.018, -0.016, -0.009, -0.007, -0.004, -0.007, -0.014, -0.009, 0.0, -0.014, -0.023, -0.014, -0.011, -0.021, -0.018, -0.014, -0.011, -0.016, -0.014, 0.0, 0.014, 0.009, -0.007, -0.014, -0.014, -0.023, -0.03, -0.04, -0.047, -0.04, -0.033, -0.042, -0.049, -0.047, -0.106, -0.206, -0.035, 0.575, 0.845, 0.021, -0.779, -0.49, -0.073, -0.158, -0.156, -0.007, -0.014, -0.054, -0.011, 0.009, -0.007, -0.021, -0.03, -0.023, -0.011, -0.007, 0.002, 0.014, 0.021, 0.033, 0.047, 0.059, 0.075, 0.097, 0.12, 0.139, 0.156, 0.175, 0.189, 0.187, 0.182, 0.177, 0.161, 0.134, 0.101, 0.052, 0.002, -0.033, -0.066, -0.087, -0.104, -0.12, -0.125, -0.113, -0.111, -0.116, -0.106, -0.092, -0.087, -0.08, -0.073, -0.068, -0.068, -0.066, -0.061, -0.054, -0.044, -0.037, -0.033, -0.026, -0.023, -0.03, -0.026, -0.016, -0.016, -0.018, -0.016, -0.011, -0.011, -0.014, -0.009, -0.002, 0.002, 0.004, 0.004, 0.004, 0.009, 0.009, -0.002, -0.002, 0.021, 0.026, -0.002, -0.018, -0.018, -0.021, -0.018, -0.023, -0.044, -0.061, -0.059, -0.063, -0.073, -0.073, -0.073, -0.113, -0.198, -0.113, 0.395, 0.802, 0.172, -0.788, -0.689, -0.153, -0.137, -0.182, -0.023, 0.026, -0.011, 0.009, 0.035, 0.03, 0.037, 0.054, 0.059, 0.056, 0.059, 0.066, 0.073, 0.085, 0.099, 0.118, 0.127, 0.132, 0.151, 0.177, 0.196, 0.217, 0.239, 0.251, 0.258, 0.262, 0.258, 0.239, 0.208, 0.165, 0.108, 0.052, 0.009, -0.023, -0.054, -0.078, -0.082, -0.085, -0.089, -0.089, -0.089, -0.089, -0.082, -0.075, -0.073, -0.066, -0.061, -0.059, -0.049, -0.042, -0.044, -0.047, -0.042, -0.04, -0.035, -0.026, -0.021, -0.04, -0.073, -0.073, -0.052, -0.049, -0.052, -0.047, -0.047, -0.049, -0.044, -0.042, -0.04, -0.04, -0.04, -0.042, -0.044, -0.044, -0.03, -0.002, 0.021], [0.144, 0.089, 0.023, -0.021, -0.052, -0.082, -0.089, -0.094, -0.113, -0.111, -0.097, -0.078, -0.054, -0.063, -0.087, -0.068, -0.044, -0.047, -0.044, -0.037, -0.033, -0.028, -0.021, -0.021, -0.021, -0.016, -0.009, -0.004, -0.004, -0.002, 0.0, -0.007, -0.018, -0.016, -0.009, -0.007, -0.004, -0.007, -0.014, -0.009, 0.0, -0.014, -0.023, -0.014, -0.011, -0.021, -0.018, -0.014, -0.011, -0.016, -0.014, 0.0, 0.014, 0.009, -0.007, -0.014, -0.014, -0.023, -0.03, -0.04, -0.047, -0.04, -0.033, -0.042, -0.049, -0.047, -0.106, -0.206, -0.035, 0.575, 0.845, 0.021, -0.779, -0.49, -0.073, -0.158, -0.156, -0.007, -0.014, -0.054, -0.011, 0.009, -0.007, -0.021, -0.03, -0.023, -0.011, -0.007, 0.002, 0.014, 0.021, 0.033, 0.047, 0.059, 0.075, 0.097, 0.12, 0.139, 0.156, 0.175, 0.189, 0.187, 0.182, 0.177, 0.161, 0.134, 0.101, 0.052, 0.002, -0.033, -0.066, -0.087, -0.104, -0.12, -0.125, -0.113, -0.111, -0.116, -0.106, -0.092, -0.087, -0.08, -0.073, -0.068, -0.068, -0.066, -0.061, -0.054, -0.044, -0.037, -0.033, -0.026, -0.023, -0.03, -0.026, -0.016, -0.016, -0.018, -0.016, -0.011, -0.011, -0.014, -0.009, -0.002, 0.002, 0.004, 0.004, 0.004, 0.009, 0.009, -0.002, -0.002, 0.021, 0.026, -0.002, -0.018, -0.018, -0.021, -0.018, -0.023, -0.044, -0.061, -0.059, -0.063, -0.073, -0.073, -0.073, -0.113, -0.198, -0.113, 0.395, 0.802, 0.172, -0.788, -0.689, -0.153, -0.137, -0.182, -0.023, 0.026, -0.011, 0.009, 0.035, 0.03, 0.037, 0.054, 0.059, 0.056, 0.059, 0.066, 0.073, 0.085, 0.099, 0.118, 0.127, 0.132, 0.151, 0.177, 0.196, 0.217, 0.239, 0.251, 0.258, 0.262, 0.258, 0.239, 0.208, 0.165, 0.108, 0.052, 0.009, -0.023, -0.054, -0.078, -0.082, -0.085, -0.089, -0.089, -0.089, -0.089, -0.082, -0.075, -0.073, -0.066, -0.061, -0.059, -0.049, -0.042, -0.044, -0.047, -0.042, -0.04, -0.035, -0.026, -0.021, -0.04, -0.073, -0.073, -0.052, -0.049, -0.052, -0.047, -0.047, -0.049, -0.044, -0.042, -0.04, -0.04, -0.04, -0.042, -0.044, -0.044, -0.03, -0.002, 0.021]]\n747b4c87-e6bb-4257-82c0-fe86fc203106,[[0.144, 0.089, 0.023, -0.021, -0.052, -0.082, -0.089, -0.094, -0.113, -0.111, -0.097, -0.078, -0.054, -0.063, -0.087, -0.068, -0.044, -0.047, -0.044, -0.037, -0.033, -0.028, -0.021, -0.021, -0.021, -0.016, -0.009, -0.004, -0.004, -0.002, 0.0, -0.007, -0.018, -0.016, -0.009, -0.007, -0.004, -0.007, -0.014, -0.009, 0.0, -0.014, -0.023, -0.014, -0.011, -0.021, -0.018, -0.014, -0.011, -0.016, -0.014, 0.0, 0.014, 0.009, -0.007, -0.014, -0.014, -0.023, -0.03, -0.04, -0.047, -0.04, -0.033, -0.042, -0.049, -0.047, -0.106, -0.206, -0.035, 0.575, 0.845, 0.021, -0.779, -0.49, -0.073, -0.158, -0.156, -0.007, -0.014, -0.054, -0.011, 0.009, -0.007, -0.021, -0.03, -0.023, -0.011, -0.007, 0.002, 0.014, 0.021, 0.033, 0.047, 0.059, 0.075, 0.097, 0.12, 0.139, 0.156, 0.175, 0.189, 0.187, 0.182, 0.177, 0.161, 0.134, 0.101, 0.052, 0.002, -0.033, -0.066, -0.087, -0.104, -0.12, -0.125, -0.113, -0.111, -0.116, -0.106, -0.092, -0.087, -0.08, -0.073, -0.068, -0.068, -0.066, -0.061, -0.054, -0.044, -0.037, -0.033, -0.026, -0.023, -0.03, -0.026, -0.016, -0.016, -0.018, -0.016, -0.011, -0.011, -0.014, -0.009, -0.002, 0.002, 0.004, 0.004, 0.004, 0.009, 0.009, -0.002, -0.002, 0.021, 0.026, -0.002, -0.018, -0.018, -0.021, -0.018, -0.023, -0.044, -0.061, -0.059, -0.063, -0.073, -0.073, -0.073, -0.113, -0.198, -0.113, 0.395, 0.802, 0.172, -0.788, -0.689, -0.153, -0.137, -0.182, -0.023, 0.026, -0.011, 0.009, 0.035, 0.03, 0.037, 0.054, 0.059, 0.056, 0.059, 0.066, 0.073, 0.085, 0.099, 0.118, 0.127, 0.132, 0.151, 0.177, 0.196, 0.217, 0.239, 0.251, 0.258, 0.262, 0.258, 0.239, 0.208, 0.165, 0.108, 0.052, 0.009, -0.023, -0.054, -0.078, -0.082, -0.085, -0.089, -0.089, -0.089, -0.089, -0.082, -0.075, -0.073, -0.066, -0.061, -0.059, -0.049, -0.042, -0.044, -0.047, -0.042, -0.04, -0.035, -0.026, -0.021, -0.04, -0.073, -0.073, -0.052, -0.049, -0.052, -0.047, -0.047, -0.049, -0.044, -0.042, -0.04, -0.04, -0.04, -0.042, -0.044, -0.044, -0.03, -0.002, 0.021], [0.144, 0.089, 0.023, -0.021, -0.052, -0.082, -0.089, -0.094, -0.113, -0.111, -0.097, -0.078, -0.054, -0.063, -0.087, -0.068, -0.044, -0.047, -0.044, -0.037, -0.033, -0.028, -0.021, -0.021, -0.021, -0.016, -0.009, -0.004, -0.004, -0.002, 0.0, -0.007, -0.018, -0.016, -0.009, -0.007, -0.004, -0.007, -0.014, -0.009, 0.0, -0.014, -0.023, -0.014, -0.011, -0.021, -0.018, -0.014, -0.011, -0.016, -0.014, 0.0, 0.014, 0.009, -0.007, -0.014, -0.014, -0.023, -0.03, -0.04, -0.047, -0.04, -0.033, -0.042, -0.049, -0.047, -0.106, -0.206, -0.035, 0.575, 0.845, 0.021, -0.779, -0.49, -0.073, -0.158, -0.156, -0.007, -0.014, -0.054, -0.011, 0.009, -0.007, -0.021, -0.03, -0.023, -0.011, -0.007, 0.002, 0.014, 0.021, 0.033, 0.047, 0.059, 0.075, 0.097, 0.12, 0.139, 0.156, 0.175, 0.189, 0.187, 0.182, 0.177, 0.161, 0.134, 0.101, 0.052, 0.002, -0.033, -0.066, -0.087, -0.104, -0.12, -0.125, -0.113, -0.111, -0.116, -0.106, -0.092, -0.087, -0.08, -0.073, -0.068, -0.068, -0.066, -0.061, -0.054, -0.044, -0.037, -0.033, -0.026, -0.023, -0.03, -0.026, -0.016, -0.016, -0.018, -0.016, -0.011, -0.011, -0.014, -0.009, -0.002, 0.002, 0.004, 0.004, 0.004, 0.009, 0.009, -0.002, -0.002, 0.021, 0.026, -0.002, -0.018, -0.018, -0.021, -0.018, -0.023, -0.044, -0.061, -0.059, -0.063, -0.073, -0.073, -0.073, -0.113, -0.198, -0.113, 0.395, 0.802, 0.172, -0.788, -0.689, -0.153, -0.137, -0.182, -0.023, 0.026, -0.011, 0.009, 0.035, 0.03, 0.037, 0.054, 0.059, 0.056, 0.059, 0.066, 0.073, 0.085, 0.099, 0.118, 0.127, 0.132, 0.151, 0.177, 0.196, 0.217, 0.239, 0.251, 0.258, 0.262, 0.258, 0.239, 0.208, 0.165, 0.108, 0.052, 0.009, -0.023, -0.054, -0.078, -0.082, -0.085, -0.089, -0.089, -0.089, -0.089, -0.082, -0.075, -0.073, -0.066, -0.061, -0.059, -0.049, -0.042, -0.044, -0.047, -0.042, -0.04, -0.035, -0.026, -0.021, -0.04, -0.073, -0.073, -0.052, -0.049, -0.052, -0.047, -0.047, -0.049, -0.044, -0.042, -0.04, -0.04, -0.04, -0.042, -0.044, -0.044, -0.03, -0.002, 0.021], [0.144, 0.089, 0.023, -0.021, -0.052, -0.082, -0.089, -0.094, -0.113, -0.111, -0.097, -0.078, -0.054, -0.063, -0.087, -0.068, -0.044, -0.047, -0.044, -0.037, -0.033, -0.028, -0.021, -0.021, -0.021, -0.016, -0.009, -0.004, -0.004, -0.002, 0.0, -0.007, -0.018, -0.016, -0.009, -0.007, -0.004, -0.007, -0.014, -0.009, 0.0, -0.014, -0.023, -0.014, -0.011, -0.021, -0.018, -0.014, -0.011, -0.016, -0.014, 0.0, 0.014, 0.009, -0.007, -0.014, -0.014, -0.023, -0.03, -0.04, -0.047, -0.04, -0.033, -0.042, -0.049, -0.047, -0.106, -0.206, -0.035, 0.575, 0.845, 0.021, -0.779, -0.49, -0.073, -0.158, -0.156, -0.007, -0.014, -0.054, -0.011, 0.009, -0.007, -0.021, -0.03, -0.023, -0.011, -0.007, 0.002, 0.014, 0.021, 0.033, 0.047, 0.059, 0.075, 0.097, 0.12, 0.139, 0.156, 0.175, 0.189, 0.187, 0.182, 0.177, 0.161, 0.134, 0.101, 0.052, 0.002, -0.033, -0.066, -0.087, -0.104, -0.12, -0.125, -0.113, -0.111, -0.116, -0.106, -0.092, -0.087, -0.08, -0.073, -0.068, -0.068, -0.066, -0.061, -0.054, -0.044, -0.037, -0.033, -0.026, -0.023, -0.03, -0.026, -0.016, -0.016, -0.018, -0.016, -0.011, -0.011, -0.014, -0.009, -0.002, 0.002, 0.004, 0.004, 0.004, 0.009, 0.009, -0.002, -0.002, 0.021, 0.026, -0.002, -0.018, -0.018, -0.021, -0.018, -0.023, -0.044, -0.061, -0.059, -0.063, -0.073, -0.073, -0.073, -0.113, -0.198, -0.113, 0.395, 0.802, 0.172, -0.788, -0.689, -0.153, -0.137, -0.182, -0.023, 0.026, -0.011, 0.009, 0.035, 0.03, 0.037, 0.054, 0.059, 0.056, 0.059, 0.066, 0.073, 0.085, 0.099, 0.118, 0.127, 0.132, 0.151, 0.177, 0.196, 0.217, 0.239, 0.251, 0.258, 0.262, 0.258, 0.239, 0.208, 0.165, 0.108, 0.052, 0.009, -0.023, -0.054, -0.078, -0.082, -0.085, -0.089, -0.089, -0.089, -0.089, -0.082, -0.075, -0.073, -0.066, -0.061, -0.059, -0.049, -0.042, -0.044, -0.047, -0.042, -0.04, -0.035, -0.026, -0.021, -0.04, -0.073, -0.073, -0.052, -0.049, -0.052, -0.047, -0.047, -0.049, -0.044, -0.042, -0.04, -0.04, -0.04, -0.042, -0.044, -0.044, -0.03, -0.002, 0.021], [0.144, 0.089, 0.023, -0.021, -0.052, -0.082, -0.089, -0.094, -0.113, -0.111, -0.097, -0.078, -0.054, -0.063, -0.087, -0.068, -0.044, -0.047, -0.044, -0.037, -0.033, -0.028, -0.021, -0.021, -0.021, -0.016, -0.009, -0.004, -0.004, -0.002, 0.0, -0.007, -0.018, -0.016, -0.009, -0.007, -0.004, -0.007, -0.014, -0.009, 0.0, -0.014, -0.023, -0.014, -0.011, -0.021, -0.018, -0.014, -0.011, -0.016, -0.014, 0.0, 0.014, 0.009, -0.007, -0.014, -0.014, -0.023, -0.03, -0.04, -0.047, -0.04, -0.033, -0.042, -0.049, -0.047, -0.106, -0.206, -0.035, 0.575, 0.845, 0.021, -0.779, -0.49, -0.073, -0.158, -0.156, -0.007, -0.014, -0.054, -0.011, 0.009, -0.007, -0.021, -0.03, -0.023, -0.011, -0.007, 0.002, 0.014, 0.021, 0.033, 0.047, 0.059, 0.075, 0.097, 0.12, 0.139, 0.156, 0.175, 0.189, 0.187, 0.182, 0.177, 0.161, 0.134, 0.101, 0.052, 0.002, -0.033, -0.066, -0.087, -0.104, -0.12, -0.125, -0.113, -0.111, -0.116, -0.106, -0.092, -0.087, -0.08, -0.073, -0.068, -0.068, -0.066, -0.061, -0.054, -0.044, -0.037, -0.033, -0.026, -0.023, -0.03, -0.026, -0.016, -0.016, -0.018, -0.016, -0.011, -0.011, -0.014, -0.009, -0.002, 0.002, 0.004, 0.004, 0.004, 0.009, 0.009, -0.002, -0.002, 0.021, 0.026, -0.002, -0.018, -0.018, -0.021, -0.018, -0.023, -0.044, -0.061, -0.059, -0.063, -0.073, -0.073, -0.073, -0.113, -0.198, -0.113, 0.395, 0.802, 0.172, -0.788, -0.689, -0.153, -0.137, -0.182, -0.023, 0.026, -0.011, 0.009, 0.035, 0.03, 0.037, 0.054, 0.059, 0.056, 0.059, 0.066, 0.073, 0.085, 0.099, 0.118, 0.127, 0.132, 0.151, 0.177, 0.196, 0.217, 0.239, 0.251, 0.258, 0.262, 0.258, 0.239, 0.208, 0.165, 0.108, 0.052, 0.009, -0.023, -0.054, -0.078, -0.082, -0.085, -0.089, -0.089, -0.089, -0.089, -0.082, -0.075, -0.073, -0.066, -0.061, -0.059, -0.049, -0.042, -0.044, -0.047, -0.042, -0.04, -0.035, -0.026, -0.021, -0.04, -0.073, -0.073, -0.052, -0.049, -0.052, -0.047, -0.047, -0.049, -0.044, -0.042, -0.04, -0.04, -0.04, -0.042, -0.044, -0.044, -0.03, -0.002, 0.021], [0.144, 0.089, 0.023, -0.021, -0.052, -0.082, -0.089, -0.094, -0.113, -0.111, -0.097, -0.078, -0.054, -0.063, -0.087, -0.068, -0.044, -0.047, -0.044, -0.037, -0.033, -0.028, -0.021, -0.021, -0.021, -0.016, -0.009, -0.004, -0.004, -0.002, 0.0, -0.007, -0.018, -0.016, -0.009, -0.007, -0.004, -0.007, -0.014, -0.009, 0.0, -0.014, -0.023, -0.014, -0.011, -0.021, -0.018, -0.014, -0.011, -0.016, -0.014, 0.0, 0.014, 0.009, -0.007, -0.014, -0.014, -0.023, -0.03, -0.04, -0.047, -0.04, -0.033, -0.042, -0.049, -0.047, -0.106, -0.206, -0.035, 0.575, 0.845, 0.021, -0.779, -0.49, -0.073, -0.158, -0.156, -0.007, -0.014, -0.054, -0.011, 0.009, -0.007, -0.021, -0.03, -0.023, -0.011, -0.007, 0.002, 0.014, 0.021, 0.033, 0.047, 0.059, 0.075, 0.097, 0.12, 0.139, 0.156, 0.175, 0.189, 0.187, 0.182, 0.177, 0.161, 0.134, 0.101, 0.052, 0.002, -0.033, -0.066, -0.087, -0.104, -0.12, -0.125, -0.113, -0.111, -0.116, -0.106, -0.092, -0.087, -0.08, -0.073, -0.068, -0.068, -0.066, -0.061, -0.054, -0.044, -0.037, -0.033, -0.026, -0.023, -0.03, -0.026, -0.016, -0.016, -0.018, -0.016, -0.011, -0.011, -0.014, -0.009, -0.002, 0.002, 0.004, 0.004, 0.004, 0.009, 0.009, -0.002, -0.002, 0.021, 0.026, -0.002, -0.018, -0.018, -0.021, -0.018, -0.023, -0.044, -0.061, -0.059, -0.063, -0.073, -0.073, -0.073, -0.113, -0.198, -0.113, 0.395, 0.802, 0.172, -0.788, -0.689, -0.153, -0.137, -0.182, -0.023, 0.026, -0.011, 0.009, 0.035, 0.03, 0.037, 0.054, 0.059, 0.056, 0.059, 0.066, 0.073, 0.085, 0.099, 0.118, 0.127, 0.132, 0.151, 0.177, 0.196, 0.217, 0.239, 0.251, 0.258, 0.262, 0.258, 0.239, 0.208, 0.165, 0.108, 0.052, 0.009, -0.023, -0.054, -0.078, -0.082, -0.085, -0.089, -0.089, -0.089, -0.089, -0.082, -0.075, -0.073, -0.066, -0.061, -0.059, -0.049, -0.042, -0.044, -0.047, -0.042, -0.04, -0.035, -0.026, -0.021, -0.04, -0.073, -0.073, -0.052, -0.049, -0.052, -0.047, -0.047, -0.049, -0.044, -0.042, -0.04, -0.04, -0.04, -0.042, -0.044, -0.044, -0.03, -0.002, 0.021]]\n\ncreateNpArray inicio\n747b4c87-e6bb-4257-82c0-fe86fc203106,createNpArray inicio\n\nSe guardo la imagen\n747b4c87-e6bb-4257-82c0-fe86fc203106,Se guardo la imagen\n\nimagen almacenada mi rey\n747b4c87-e6bb-4257-82c0-fe86fc203106,imagen almacenada mi rey\n\nSe guardo la imagen\n747b4c87-e6bb-4257-82c0-fe86fc203106,Se guardo la imagen\n\nimagen almacenada mi rey\n747b4c87-e6bb-4257-82c0-fe86fc203106,imagen almacenada mi rey\n\nSe guardo la imagen\n747b4c87-e6bb-4257-82c0-fe86fc203106,Se guardo la imagen\n\nimagen almacenada mi rey\n747b4c87-e6bb-4257-82c0-fe86fc203106,imagen almacenada mi rey\n\nSe guardo la imagen\n747b4c87-e6bb-4257-82c0-fe86fc203106,Se guardo la imagen\n\nimagen almacenada mi rey\n747b4c87-e6bb-4257-82c0-fe86fc203106,imagen almacenada mi rey\n\nSe guardo la imagen\n747b4c87-e6bb-4257-82c0-fe86fc203106,Se guardo la imagen\n\nimagen almacenada mi rey\n747b4c87-e6bb-4257-82c0-fe86fc203106,imagen almacenada mi rey\n\nya tengo las imagenes bro\n747b4c87-e6bb-4257-82c0-fe86fc203106,ya tengo las imagenes bro\n\n2022-04-30 22:05:15.410844: I tensorflow/compiler/mlir/mlir_graph_optimization_pass.cc:185] None of the MLIR Optimization Passes are enabled (registered 2)\n2022-04-30 22:05:18,613 | root | ERROR | Encountered Exception: Traceback (most recent call last):\n  File \"/azureml-envs/azureml_c78c9543ed45f411add3daef4c5dde2a/lib/python3.8/site-packages/flask/app.py\", line 1832, in full_dispatch_request\n    rv = self.dispatch_request()\n  File \"/azureml-envs/azureml_c78c9543ed45f411add3daef4c5dde2a/lib/python3.8/site-packages/flask/app.py\", line 1818, in dispatch_request\n    return self.view_functions[rule.endpoint](**req.view_args)\n  File \"/var/azureml-server/synchronous/routes.py\", line 44, in score_realtime\n    return run_scoring(service_input, request.headers, request.environ.get('REQUEST_ID', '00000000-0000-0000-0000-000000000000'))\n  File \"/var/azureml-server/synchronous/routes.py\", line 81, in run_scoring\n    response = wrap_response(response)\n  File \"/var/azureml-server/routes_common.py\", line 124, in wrap_response\n    return AMLResponse(response_body, response_status_code, response_headers, json_str=True)\n  File \"/var/azureml-server/azureml_contrib_services/aml_response.py\", line 16, in __init__\n    super().__init__(json.dumps(message), status=status_code, mimetype='application/json')\n  File \"/azureml-envs/azureml_c78c9543ed45f411add3daef4c5dde2a/lib/python3.8/json/__init__.py\", line 231, in dumps\n    return _default_encoder.encode(obj)\n  File \"/azureml-envs/azureml_c78c9543ed45f411add3daef4c5dde2a/lib/python3.8/json/encoder.py\", line 199, in encode\n    chunks = self.iterencode(o, _one_shot=True)\n  File \"/azureml-envs/azureml_c78c9543ed45f411add3daef4c5dde2a/lib/python3.8/json/encoder.py\", line 257, in iterencode\n    return _iterencode(o, 0)\n  File \"/azureml-envs/azureml_c78c9543ed45f411add3daef4c5dde2a/lib/python3.8/json/encoder.py\", line 179, in default\n    raise TypeError(f'Object of type {o.__class__.__name__} '\nTypeError: Object of type ndarray is not JSON serializable\n\n2022-04-30 22:05:18,613 | root | INFO | 500\n127.0.0.1 - - [30/Apr/2022:22:05:18 +0000] \"POST /score HTTP/1.0\" 500 1849 \"-\" \"PostmanRuntime/7.26.8\"\n\n"
        }
      ],
      "execution_count": 12,
      "metadata": {
        "jupyter": {
          "source_hidden": false,
          "outputs_hidden": false
        },
        "nteract": {
          "transient": {
            "deleting": false
          }
        },
        "gather": {
          "logged": 1651356338963
        }
      }
    }
  ],
  "metadata": {
    "kernelspec": {
      "name": "python38-azureml",
      "language": "python",
      "display_name": "Python 3.8 - AzureML"
    },
    "language_info": {
      "name": "python",
      "version": "3.8.5",
      "mimetype": "text/x-python",
      "codemirror_mode": {
        "name": "ipython",
        "version": 3
      },
      "pygments_lexer": "ipython3",
      "nbconvert_exporter": "python",
      "file_extension": ".py"
    },
    "kernel_info": {
      "name": "python38-azureml"
    },
    "microsoft": {
      "host": {
        "AzureML": {
          "notebookHasBeenCompleted": true
        }
      }
    },
    "nteract": {
      "version": "nteract-front-end@1.0.0"
    }
  },
  "nbformat": 4,
  "nbformat_minor": 2
}